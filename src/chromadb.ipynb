{
 "cells": [
  {
   "cell_type": "markdown",
   "metadata": {},
   "source": [
    "### RAG (Retrieval Augmented Generation ) \n",
    "This notebook code reads a .pdf file, chunk and store into a db.\n",
    "On requesting for an answer to the question, this code read from the stored db + model knowledge to answer \n",
    "\n",
    "LLM Model = ggml-gpt4all-j-v1.3-groovy"
   ]
  },
  {
   "cell_type": "code",
   "execution_count": 1,
   "metadata": {},
   "outputs": [],
   "source": [
    "import textwrap\n",
    "import chromadb\n",
    "\n",
    "from langchain.llms import GPT4All\n",
    "from langchain.embeddings import HuggingFaceEmbeddings\n",
    "\n",
    "from langchain.text_splitter import RecursiveCharacterTextSplitter\n",
    "from langchain.document_loaders import PyPDFLoader\n",
    "from langchain.chains import RetrievalQA\n",
    "from langchain import PromptTemplate, LLMChain\n",
    "\n",
    "\n",
    "from langchain.vectorstores import Chroma\n",
    "from chromadb.config import Settings"
   ]
  },
  {
   "cell_type": "markdown",
   "metadata": {},
   "source": [
    "Download the model from https://gpt4all.io/models/ggml-gpt4all-j-v1.3-groovy.bin (Date : 10/17/2023)\n",
    "File size of the model is 3gb."
   ]
  },
  {
   "cell_type": "code",
   "execution_count": 2,
   "metadata": {},
   "outputs": [],
   "source": [
    "CHROMA_SETTINGS = Settings(\n",
    "    persist_directory=\"../db/\",\n",
    "    anonymized_telemetry=False,\n",
    "    allow_reset=True\n",
    ")\n",
    "EMBEDDINGS_MODEL_NAME=\"all-MiniLM-L6-v2\"\n",
    "model_path = '../models/ggml-gpt4all-j-v1.3-groovy.bin'\n",
    "vector_db_path='../db/'\n",
    "\n",
    "text_wrapper = textwrap.TextWrapper(width=100)"
   ]
  },
  {
   "cell_type": "markdown",
   "metadata": {},
   "source": [
    "Initialize GPT4All, Embeddings, Chroma db client and db and text Splitter"
   ]
  },
  {
   "cell_type": "code",
   "execution_count": null,
   "metadata": {},
   "outputs": [],
   "source": [
    "llm = GPT4All(model=model_path, max_tokens=800, verbose=False, allow_download=False)\n",
    "embeddings = HuggingFaceEmbeddings(model_name=EMBEDDINGS_MODEL_NAME)"
   ]
  },
  {
   "cell_type": "markdown",
   "metadata": {},
   "source": [
    "Load and split files "
   ]
  },
  {
   "cell_type": "code",
   "execution_count": 4,
   "metadata": {},
   "outputs": [
    {
     "data": {
      "text/plain": [
       "32"
      ]
     },
     "execution_count": 4,
     "metadata": {},
     "output_type": "execute_result"
    }
   ],
   "source": [
    "pdf_loader = PyPDFLoader(\"../data/advanced_programmingforprint.pdf\")\n",
    "text_splitter = RecursiveCharacterTextSplitter(chunk_size=500, chunk_overlap=10)\n",
    "docs = pdf_loader.load_and_split(text_splitter=text_splitter)\n",
    "len(docs)"
   ]
  },
  {
   "cell_type": "code",
   "execution_count": 5,
   "metadata": {},
   "outputs": [],
   "source": [
    "# Store into db\n",
    "chroma_db = Chroma.from_documents( documents=docs, embedding=embeddings, persist_directory=\"../db/\", \n",
    "             client_settings= CHROMA_SETTINGS)\n",
    "chroma_db.persist()\n"
   ]
  },
  {
   "cell_type": "markdown",
   "metadata": {},
   "source": [
    "### Similarity Search."
   ]
  },
  {
   "cell_type": "code",
   "execution_count": 6,
   "metadata": {},
   "outputs": [
    {
     "name": "stdout",
     "output_type": "stream",
     "text": [
      "9/13/2011\n",
      "7Data Wires\n",
      "We use Data Wires to pass \n",
      "information around inside of a program.  This is easier than using variables and accomplishes much of the same function\n",
      "Data wires can go between blocks and are connected at the Data T erminals (normally hidden)\n",
      "Shown here are the same move blocks with the Data T erminal hidden and shown\n",
      "Press here to \n",
      "openPress here to \n",
      "close\n",
      "Linking the Loop to the Motors\n",
      "Lets run a loop from 0 to 100\n",
      "And lets make the Motor Power level equal the Loop\n",
      "\n",
      "9/13/2011\n",
      "15Variables in the Program\n",
      "In this program we see \n",
      "TWO strands running at the same time\n",
      "The lower strand is looping and assigning the value of the LS to the variable “LightValue” and\n",
      "The upper strand is looping and displaying the value of the variable in the NXT window\n",
      "Switches with multiple discrete options\n",
      "In this example, the NXT will receive \n",
      "a Bluetooth text message and feed this as a value to a Switch\n",
      "\n",
      "9/13/2011\n",
      "17Action Palette\n",
      "The five action palette \n",
      "blocks:\n",
      "Motor\n",
      "Sound\n",
      "Display\n",
      "Send message\n",
      "Lamp (can use motor as \n",
      "well)\n",
      "Most of this can be \n",
      "accessed through the common palette, although there are slight differences\n",
      "Sensor Palette\n",
      "The nine sensor blocks:\n",
      "T ouch sensor\n",
      "Sound sensor\n",
      "Light sensor\n",
      "Distance sensor\n",
      "NXT buttons\n",
      "Rotation sensor\n",
      "Timer\n",
      "Receive message\n",
      "Te m p e r a t u r e\n",
      "All of these are used as data \n",
      "sources for other parts of your program\n",
      "\n",
      "9/13/2011\n",
      "1\n",
      "Presented by T om Bickford\n",
      "Executive Director\n",
      "Maine RoboticsAdvanced Programming\n",
      "with LEGO® NXT MindStorms\n",
      "Advanced topics in MindStorms\n",
      "Loops\n",
      "Switches\n",
      "Nested Loops and Switches\n",
      "Data Wires\n",
      "Program view and Help options\n",
      "Display\n",
      "Math\n",
      "Variables\n",
      "Flat view versus Expanded view\n",
      "The block menus\n",
      "\n"
     ]
    }
   ],
   "source": [
    "query = \"What is data Wires  ? \"\n",
    "matched_docs = chroma_db.similarity_search(query)\n",
    "\n",
    "for match_doc in matched_docs:\n",
    "    print(match_doc.page_content)\n",
    "    print()\n"
   ]
  },
  {
   "cell_type": "markdown",
   "metadata": {},
   "source": [
    "### Retrieve from Database\n",
    "- Open DB\n"
   ]
  },
  {
   "cell_type": "code",
   "execution_count": 7,
   "metadata": {},
   "outputs": [
    {
     "name": "stdout",
     "output_type": "stream",
     "text": [
      "9/13/2011\n",
      "7Data Wires\n",
      "We use Data Wires to pass \n",
      "information around inside of a program.  This is easier than using variables and accomplishes much of the same function\n",
      "Data wires can go between blocks and are connected at the Data T erminals (normally hidden)\n",
      "Shown here are the same move blocks with the Data T erminal hidden and shown\n",
      "Press here to \n",
      "openPress here to \n",
      "close\n",
      "Linking the Loop to the Motors\n",
      "Lets run a loop from 0 to 100\n",
      "And lets make the Motor Power level equal the Loop\n",
      "\n",
      "9/13/2011\n",
      "15Variables in the Program\n",
      "In this program we see \n",
      "TWO strands running at the same time\n",
      "The lower strand is looping and assigning the value of the LS to the variable “LightValue” and\n",
      "The upper strand is looping and displaying the value of the variable in the NXT window\n",
      "Switches with multiple discrete options\n",
      "In this example, the NXT will receive \n",
      "a Bluetooth text message and feed this as a value to a Switch\n",
      "\n",
      "9/13/2011\n",
      "17Action Palette\n",
      "The five action palette \n",
      "blocks:\n",
      "Motor\n",
      "Sound\n",
      "Display\n",
      "Send message\n",
      "Lamp (can use motor as \n",
      "well)\n",
      "Most of this can be \n",
      "accessed through the common palette, although there are slight differences\n",
      "Sensor Palette\n",
      "The nine sensor blocks:\n",
      "T ouch sensor\n",
      "Sound sensor\n",
      "Light sensor\n",
      "Distance sensor\n",
      "NXT buttons\n",
      "Rotation sensor\n",
      "Timer\n",
      "Receive message\n",
      "Te m p e r a t u r e\n",
      "All of these are used as data \n",
      "sources for other parts of your program\n",
      "\n",
      "9/13/2011\n",
      "1\n",
      "Presented by T om Bickford\n",
      "Executive Director\n",
      "Maine RoboticsAdvanced Programming\n",
      "with LEGO® NXT MindStorms\n",
      "Advanced topics in MindStorms\n",
      "Loops\n",
      "Switches\n",
      "Nested Loops and Switches\n",
      "Data Wires\n",
      "Program view and Help options\n",
      "Display\n",
      "Math\n",
      "Variables\n",
      "Flat view versus Expanded view\n",
      "The block menus\n",
      "\n"
     ]
    }
   ],
   "source": [
    "#retrieve from vector db\n",
    "persisted_db = Chroma(persist_directory=CHROMA_SETTINGS.persist_directory, \n",
    "                            embedding_function=embeddings, \n",
    "                            client_settings=CHROMA_SETTINGS)\n",
    "\n",
    "source_vector_store_retriever = persisted_db.as_retriever(search_type=\"similarity_score_threshold\",\n",
    "                                            search_kwargs={'score_threshold': 0.8})\n",
    "query_for_stored = query\n",
    "matched_docs = persisted_db.similarity_search(query_for_stored)\n",
    "\n",
    "for doc in matched_docs:\n",
    "    print(doc.page_content)\n",
    "    print()\n"
   ]
  },
  {
   "cell_type": "code",
   "execution_count": 8,
   "metadata": {},
   "outputs": [
    {
     "name": "stdout",
     "output_type": "stream",
     "text": [
      "Answer :  Data Wires are a way to pass information around inside of a program. They can be connected\n",
      "at the Data Terminals (normally hidden) and show how blocks move between each other, making it\n",
      "easier for programmers to understand their code.\n",
      "\n",
      "\n",
      "Source : [Document(page_content='9/13/2011\\n7Data Wires\\n\\uf097We use Data Wires to pass\n",
      "\\ninformation around inside of a program.  This is easier than using variables and accomplishes much\n",
      "of the same function\\n\\uf097Data wires can go between blocks and are connected at the Data T\n",
      "erminals (normally hidden)\\n\\uf097Shown here are the same move blocks with the Data T erminal hidden\n",
      "and shown\\nPress here to \\nopenPress here to \\nclose\\nLinking the Loop to the Motors\\n\\uf097Lets run\n",
      "a loop from 0 to 100\\n\\uf097And lets make the Motor Power level equal the Loop', metadata={'page':\n",
      "6, 'source': '../data/advanced_programmingforprint.pdf'}),\n",
      "Document(page_content='9/13/2011\\n15Variables in the Program\\n\\uf097In this program we see \\nTWO\n",
      "strands running at the same time\\n\\uf097The lower strand is looping and assigning the value of the\n",
      "LS to the variable “LightValue” and\\n\\uf097The upper strand is looping and displaying the value of\n",
      "the variable in the NXT window\\nSwitches with multiple discrete options\\n\\uf097In this example, the\n",
      "NXT will receive \\na Bluetooth text message and feed this as a value to a Switch', metadata={'page':\n",
      "14, 'source': '../data/advanced_programmingforprint.pdf'}),\n",
      "Document(page_content='9/13/2011\\n17Action Palette\\n\\uf097The five action palette\n",
      "\\nblocks:\\n\\uf097Motor\\n\\uf097Sound\\n\\uf097Display\\n\\uf097Send message\\n\\uf097Lamp (can use motor as\n",
      "\\nwell)\\n\\uf097Most of this can be \\naccessed through the common palette, although there are slight\n",
      "differences\\nSensor Palette\\n\\uf097The nine sensor blocks:\\n\\uf097T ouch sensor\\n\\uf097Sound\n",
      "sensor\\n\\uf097Light sensor\\n\\uf097Distance sensor\\n\\uf097NXT buttons\\n\\uf097Rotation\n",
      "sensor\\n\\uf097Timer\\n\\uf097Receive message\\n\\uf097Te m p e r a t u r e\\n\\uf097All of these are used\n",
      "as data \\nsources for other parts of your program', metadata={'page': 16, 'source':\n",
      "'../data/advanced_programmingforprint.pdf'}), Document(page_content='9/13/2011\\n1\\nPresented by T om\n",
      "Bickford\\nExecutive Director\\nMaine RoboticsAdvanced Programming\\nwith LEGO® NXT\n",
      "MindStorms\\nAdvanced topics in MindStorms\\n\\uf097Loops\\n\\uf097Switches\\n\\uf097Nested Loops and\n",
      "Switches\\n\\uf097Data Wires\\n\\uf097Program view and Help\n",
      "options\\n\\uf097Display\\n\\uf097Math\\n\\uf097Variables\\n\\uf097Flat view versus Expanded view\\n\\uf097The\n",
      "block menus', metadata={'page': 0, 'source': '../data/advanced_programmingforprint.pdf'})]\n"
     ]
    }
   ],
   "source": [
    "chunk = 4\n",
    "retriever = persisted_db.as_retriever(search_kwargs={\"k\": chunk})\n",
    "retrieval_qa = RetrievalQA.from_chain_type(llm=llm, chain_type=\"stuff\", retriever=retriever, return_source_documents=True)\n",
    "result = retrieval_qa(query)\n",
    "\n",
    "answer, source = result['result'], result['source_documents']\n",
    "\n",
    "print(text_wrapper.fill(f'Answer : {answer}'))\n",
    "print('\\n')\n",
    "print(text_wrapper.fill(f'Source : {source}' ))\n"
   ]
  },
  {
   "cell_type": "markdown",
   "metadata": {},
   "source": [
    "### Custom Prompt (WIP)"
   ]
  },
  {
   "cell_type": "code",
   "execution_count": 9,
   "metadata": {},
   "outputs": [
    {
     "name": "stdout",
     "output_type": "stream",
     "text": [
      "Response :  Question: What is the output of this code?\n"
     ]
    }
   ],
   "source": [
    "prompt = PromptTemplate(input_variables=['query', 'content'], template=\"\"\"\n",
    " Question: {query}\n",
    " \n",
    " Answer: Let's think step by step.\n",
    " \"\"\")\n",
    "\n",
    "llm_chain = LLMChain(prompt=prompt, llm=llm)\n",
    "response = llm_chain.run(prompt)\n",
    "print(text_wrapper.fill(f'Response : {response}' ))\n"
   ]
  },
  {
   "cell_type": "code",
   "execution_count": 28,
   "metadata": {},
   "outputs": [
    {
     "name": "stdout",
     "output_type": "stream",
     "text": [
      "Answer :  The answer depends on which time period or geological era we are referring to. However,\n",
      "some of the earliest known animals include trilobites (around 520 million years ago), conodonts\n",
      "(about 542-541 million years ago) and jawless fish such as agnathans (which evolved around 540\n",
      "million years ago).\n",
      "\n",
      "\n",
      "Source : [Document(page_content='counter (0 to 100) which would match the range of the motor power\n",
      "level\\n\\uf097You need to go to the LOOP block and click the “show counter” option at the\n",
      "bottom\\n\\uf097Now open up the motor Data T erminal and use the cursor to click between the LOOPS\n",
      "counter button and the motor speed control\\n\\uf097Set the motor duration to 0.1 second\\n\\uf097Now\n",
      "the robot will start at a stand still (count = power = 0)', metadata={'page': 6, 'source':\n",
      "'../data/advanced_programmingforprint.pdf'}), Document(page_content='9/13/2011\\n4The Switch,\n",
      "terrarium control\\n(switch nested in loop)\\n\\uf097Using a temperature sensor insi de a terrarium and\n",
      "a 9 volt \\nmotor (LEGO or otherwise); th is program will turn on an \\nexhaust motor to keep the\n",
      "terrarium temperature moderate\\n\\uf097This loop is set to infinite\\n\\uf097T emperature\n",
      "Switch\\n\\uf097IF temp > 100 °then turn on\\nmotor, ELSE don’t\\nThe Switch, remote control\\n(switch\n",
      "nested in loop)\\n\\uf097By holding the NXT in the hand and having', metadata={'page': 3, 'source':\n",
      "'../data/advanced_programmingforprint.pdf'}), Document(page_content='9/13/2011\\n19Advanced\n",
      "Palette\\n\\uf097The 10 Advanced blocks\\n\\uf097Number to text\\n\\uf097Te x t\\n\\uf097Keep\n",
      "alive\\n\\uf097File access\\n\\uf097Calibrate sensor\\n\\uf097Reset motor\\n\\uf097Start data-\n",
      "logging\\n\\uf097Stop data-logging\\n\\uf097Bluetooth connection\\n\\uf097Compass sensor\\nImage\n",
      "files\\n\\uf097The NXT -g software (MindStorms) uses RIC image files, which \\nis a raster based image\n",
      "format.\\n\\uf097NXTRICeditV2 is available on li ne to edit your own images\\n\\uf097These image files\n",
      "need to be in the program file directory \\n/engine/pictures in order to be  automatically available\n",
      "with', metadata={'page': 18, 'source': '../data/advanced_programmingforprint.pdf'}),\n",
      "Document(page_content='9/13/2011\\n5Remote Control\\n(Multiple nested switches)\\n\\uf097What if you\n",
      "want to use the arrow keys to turn right and left \\nand the enter key to go forward and a touch\n",
      "sensor if you want to go backwards?\\n\\uf097You use multiple nested switches inside of a\n",
      "loop\\n\\uf097IF right arrow , turn right\\n\\uf097ELSE if left arrow , turn left\\n\\uf097ELSE if enter\n",
      "button, go straight\\n\\uf097ELSE if touch sensor on 1, go back\\noELSE shut off motors\\nRemote\n",
      "Control\\n(Multiple nested switches)\\n\\uf097As you start to nest multiple loops and',\n",
      "metadata={'page': 4, 'source': '../data/advanced_programmingforprint.pdf'})]\n"
     ]
    }
   ],
   "source": [
    "question = 'what is the first animal that evolved on earth ?'\n",
    "result = retrieval_qa(question)\n",
    "answer, source = result['result'], result['source_documents']\n",
    "\n",
    "print(text_wrapper.fill(f'Answer : {answer}'))\n",
    "print('\\n')\n",
    "print(text_wrapper.fill(f'Source : {source}' ))"
   ]
  }
 ],
 "metadata": {
  "kernelspec": {
   "display_name": ".venv",
   "language": "python",
   "name": "python3"
  },
  "language_info": {
   "codemirror_mode": {
    "name": "ipython",
    "version": 3
   },
   "file_extension": ".py",
   "mimetype": "text/x-python",
   "name": "python",
   "nbconvert_exporter": "python",
   "pygments_lexer": "ipython3",
   "version": "3.11.3"
  }
 },
 "nbformat": 4,
 "nbformat_minor": 2
}
