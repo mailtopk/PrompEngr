{
 "cells": [
  {
   "cell_type": "markdown",
   "metadata": {},
   "source": [
    "### RAG (Retrieval Augmented Generation ) \n",
    "This notebook code reads a .pdf file, chunk and store into a db.\n",
    "On requesting for an answer to the question, this code read from the stored db + model knowledge to answer.\n",
    "\n",
    "-------------------------------------------------------------------------------------- -\n",
    ".pdf --> chunk --> store in chorma db --> retrieve data from db (similarity search) --> create prompt template --> LLM run\n",
    "-------------------------------------------------------------------------------------- -\n",
    "Context is similarity search result from custom knowledge  base\n",
    "\n",
    "LLM Model = ggml-gpt4all-j-v1.3-groovy"
   ]
  },
  {
   "cell_type": "code",
   "execution_count": 9,
   "metadata": {},
   "outputs": [],
   "source": [
    "import textwrap\n",
    "import chromadb\n",
    "\n",
    "from langchain.llms import GPT4All\n",
    "from langchain.embeddings import HuggingFaceEmbeddings\n",
    "\n",
    "from langchain.text_splitter import RecursiveCharacterTextSplitter\n",
    "from langchain.document_loaders import PyPDFLoader\n",
    "from langchain.chains import RetrievalQA\n",
    "from langchain import PromptTemplate, LLMChain\n",
    "\n",
    "\n",
    "from langchain.vectorstores import Chroma\n",
    "from chromadb.config import Settings"
   ]
  },
  {
   "cell_type": "markdown",
   "metadata": {},
   "source": [
    "Download the model from https://gpt4all.io/models/ggml-gpt4all-j-v1.3-groovy.bin (Date : 10/17/2023)\n",
    "File size of the model is 3gb."
   ]
  },
  {
   "cell_type": "code",
   "execution_count": 10,
   "metadata": {},
   "outputs": [],
   "source": [
    "CHROMA_SETTINGS = Settings(\n",
    "    persist_directory=\"../db/\",\n",
    "    anonymized_telemetry=False,\n",
    "    allow_reset=True\n",
    ")\n",
    "EMBEDDINGS_MODEL_NAME=\"all-MiniLM-L6-v2\"\n",
    "model_path = '../models/ggml-gpt4all-j-v1.3-groovy.bin'\n",
    "vector_db_path='../db/'\n",
    "\n",
    "text_wrapper = textwrap.TextWrapper(width=100)"
   ]
  },
  {
   "cell_type": "markdown",
   "metadata": {},
   "source": [
    "Initialize GPT4All, Embeddings, Chroma db client and db and text Splitter"
   ]
  },
  {
   "cell_type": "code",
   "execution_count": 11,
   "metadata": {},
   "outputs": [
    {
     "name": "stdout",
     "output_type": "stream",
     "text": [
      "Found model file at  ../models/ggml-gpt4all-j-v1.3-groovy.bin\n"
     ]
    }
   ],
   "source": [
    "llm = GPT4All(model=model_path, max_tokens=2000, verbose=True, \n",
    "              allow_download=False, repeat_last_n=0)\n",
    "embeddings = HuggingFaceEmbeddings(model_name=EMBEDDINGS_MODEL_NAME)"
   ]
  },
  {
   "cell_type": "markdown",
   "metadata": {},
   "source": [
    "Load and split files, source is NXT advanced programming "
   ]
  },
  {
   "cell_type": "code",
   "execution_count": 12,
   "metadata": {},
   "outputs": [
    {
     "data": {
      "text/plain": [
       "32"
      ]
     },
     "execution_count": 12,
     "metadata": {},
     "output_type": "execute_result"
    }
   ],
   "source": [
    "pdf_loader = PyPDFLoader(\"../data/advanced_programmingforprint.pdf\")\n",
    "text_splitter = RecursiveCharacterTextSplitter(chunk_size=500, chunk_overlap=10)\n",
    "docs = pdf_loader.load_and_split(text_splitter=text_splitter)\n",
    "len(docs)"
   ]
  },
  {
   "cell_type": "code",
   "execution_count": 13,
   "metadata": {},
   "outputs": [],
   "source": [
    "# Store into db\n",
    "chroma_db = Chroma.from_documents( documents=docs, embedding=embeddings, persist_directory=\"../db/\", \n",
    "             client_settings= CHROMA_SETTINGS) #TODO - upsert\n",
    "chroma_db.persist()\n"
   ]
  },
  {
   "cell_type": "markdown",
   "metadata": {},
   "source": [
    "### Similarity Search."
   ]
  },
  {
   "cell_type": "code",
   "execution_count": 15,
   "metadata": {},
   "outputs": [
    {
     "data": {
      "text/plain": [
       "[Document(page_content='9/13/2011\\n7Data Wires\\n\\uf097We use Data Wires to pass \\ninformation around inside of a program.  This is easier than using variables and accomplishes much of the same function\\n\\uf097Data wires can go between blocks and are connected at the Data T erminals (normally hidden)\\n\\uf097Shown here are the same move blocks with the Data T erminal hidden and shown\\nPress here to \\nopenPress here to \\nclose\\nLinking the Loop to the Motors\\n\\uf097Lets run a loop from 0 to 100\\n\\uf097And lets make the Motor Power level equal the Loop', metadata={'page': 6, 'source': '../data/advanced_programmingforprint.pdf'}),\n",
       " Document(page_content='9/13/2011\\n7Data Wires\\n\\uf097We use Data Wires to pass \\ninformation around inside of a program.  This is easier than using variables and accomplishes much of the same function\\n\\uf097Data wires can go between blocks and are connected at the Data T erminals (normally hidden)\\n\\uf097Shown here are the same move blocks with the Data T erminal hidden and shown\\nPress here to \\nopenPress here to \\nclose\\nLinking the Loop to the Motors\\n\\uf097Lets run a loop from 0 to 100\\n\\uf097And lets make the Motor Power level equal the Loop', metadata={'page': 6, 'source': '../data/advanced_programmingforprint.pdf'}),\n",
       " Document(page_content='9/13/2011\\n15Variables in the Program\\n\\uf097In this program we see \\nTWO strands running at the same time\\n\\uf097The lower strand is looping and assigning the value of the LS to the variable “LightValue” and\\n\\uf097The upper strand is looping and displaying the value of the variable in the NXT window\\nSwitches with multiple discrete options\\n\\uf097In this example, the NXT will receive \\na Bluetooth text message and feed this as a value to a Switch', metadata={'page': 14, 'source': '../data/advanced_programmingforprint.pdf'}),\n",
       " Document(page_content='9/13/2011\\n15Variables in the Program\\n\\uf097In this program we see \\nTWO strands running at the same time\\n\\uf097The lower strand is looping and assigning the value of the LS to the variable “LightValue” and\\n\\uf097The upper strand is looping and displaying the value of the variable in the NXT window\\nSwitches with multiple discrete options\\n\\uf097In this example, the NXT will receive \\na Bluetooth text message and feed this as a value to a Switch', metadata={'page': 14, 'source': '../data/advanced_programmingforprint.pdf'})]"
      ]
     },
     "execution_count": 15,
     "metadata": {},
     "output_type": "execute_result"
    }
   ],
   "source": [
    "question = \"What is data Wires  ? \"\n",
    "matched_docs = chroma_db.similarity_search(question)\n",
    "matched_docs"
   ]
  },
  {
   "cell_type": "markdown",
   "metadata": {},
   "source": [
    "### Retrieve from Database\n",
    "- Open DB\n",
    "- Similarity search from persisted DB\n",
    "- Create context"
   ]
  },
  {
   "cell_type": "code",
   "execution_count": 16,
   "metadata": {},
   "outputs": [
    {
     "name": "stdout",
     "output_type": "stream",
     "text": [
      "9/13/2011 7Data Wires We use Data Wires to pass  information around inside of a program.  This is\n",
      "easier than using variables and accomplishes much of the same function Data wires can go between\n",
      "blocks and are connected at the Data T erminals (normally hidden) Shown here are the same move\n",
      "blocks with the Data T erminal hidden and shown Press here to  openPress here to  close Linking the\n",
      "Loop to the Motors Lets run a loop from 0 to 100 And lets make the Motor Power level equal the\n",
      "Loop9/13/2011 7Data Wires We use Data Wires to pass  information around inside of a program.  This\n",
      "is easier than using variables and accomplishes much of the same function Data wires can go between\n",
      "blocks and are connected at the Data T erminals (normally hidden) Shown here are the same move\n",
      "blocks with the Data T erminal hidden and shown Press here to  openPress here to  close Linking the\n",
      "Loop to the Motors Lets run a loop from 0 to 100 And lets make the Motor Power level equal the\n",
      "Loop9/13/2011 15Variables in the Program In this program we see  TWO strands running at the same\n",
      "time The lower strand is looping and assigning the value of the LS to the variable “LightValue” and\n",
      "The upper strand is looping and displaying the value of the variable in the NXT window Switches\n",
      "with multiple discrete options In this example, the NXT will receive  a Bluetooth text message and\n",
      "feed this as a value to a Switch9/13/2011 15Variables in the Program In this program we see  TWO\n",
      "strands running at the same time The lower strand is looping and assigning the value of the LS to\n",
      "the variable “LightValue” and The upper strand is looping and displaying the value of the variable\n",
      "in the NXT window Switches with multiple discrete options In this example, the NXT will receive  a\n",
      "Bluetooth text message and feed this as a value to a Switch\n"
     ]
    }
   ],
   "source": [
    "#retrieve from vector db\n",
    "persisted_db = Chroma(persist_directory=CHROMA_SETTINGS.persist_directory, \n",
    "                            embedding_function=embeddings, \n",
    "                            client_settings=CHROMA_SETTINGS)\n",
    "# Only retrieve documents that have a relevance score\n",
    "# Above a 0.8 threshold\n",
    "source_vector_store_retriever = persisted_db.as_retriever(search_type=\"similarity_score_threshold\",\n",
    "                                            search_kwargs={'score_threshold': 0.8})\n",
    "\n",
    "matched_docs = persisted_db.similarity_search(question)\n",
    "\n",
    "context = ''\n",
    "for doc in matched_docs:\n",
    "    context = context + doc.page_content\n",
    "\n",
    "print(text_wrapper.fill(context))"
   ]
  },
  {
   "cell_type": "markdown",
   "metadata": {},
   "source": [
    "Create Prompt (Zero-shot) template, input variables\n",
    "- context\n",
    "- question\n",
    "\n",
    "Output - llm chain not returning full response, where as RetrievalQA.from_chain_type is retuning full expected response."
   ]
  },
  {
   "cell_type": "code",
   "execution_count": 17,
   "metadata": {},
   "outputs": [
    {
     "name": "stdout",
     "output_type": "stream",
     "text": [
      "  Data Wire is a communication mechanism in programming that allows data to be passed between\n",
      "different parts of a program. It is a way to pass information between different blocks of code,\n",
      "without the need for variables or variables. Data wires are connected at data terminals, which are\n",
      "normally hidden. They can be used to pass information between different parts of a program, such as\n",
      "between different functions or between different parts of a program.\n"
     ]
    }
   ],
   "source": [
    "template = \"\"\"\n",
    "Please use the following below context to answer questions. If you don't know the answer, just say that you don't know. don't try to make up an answer.\n",
    "Context: {context}\n",
    "Question: {question}\n",
    "Answer: \"\"\"\n",
    "\n",
    "prompt = PromptTemplate(input_variables=['context','question'], template=template).partial(context=context)\n",
    "\n",
    "llm_chain = LLMChain(prompt=prompt, llm=llm, verbose=False)\n",
    "response = llm_chain.run(question)\n",
    "print(text_wrapper.fill(response))\n"
   ]
  },
  {
   "cell_type": "markdown",
   "metadata": {},
   "source": [
    "### Leading words example\n",
    "\n",
    "The model is forced to break down its solution into multiple, more manageable steps rather than being allowed to just hazard a guess\n",
    "```\n",
    "“think step by step”\n",
    "```"
   ]
  },
  {
   "cell_type": "code",
   "execution_count": 20,
   "metadata": {},
   "outputs": [
    {
     "name": "stdout",
     "output_type": "stream",
     "text": [
      ", what is data wire? \n",
      "\n",
      "Data wire is a communication channel that allows data to be passed between different parts of a program. It is a way to pass information between different blocks of code in a program.\n",
      "\n",
      "In the context of the program, data wires are used to pass information between the loop and the motors. The loop is used to control the motor power level, and the motors are controlled by the data wires.\n",
      "\n",
      "The program also uses variables to store information. In this case, the program uses two variables, \"LightValue\" and \"MotorPower\", to store information. The program uses these variables to control the motor power level and to display the value of the variables in the NXT window.\n",
      "\n",
      "Overall, the program uses data wires and variables to control the motor power level and display the value of the variables in the NXT window.\n"
     ]
    }
   ],
   "source": [
    "\n",
    "template = \"\"\"\n",
    "Please use the following below context to answer questions. If you don't know the answer, just say that you don't know. don't try to make up an answer.\n",
    "Context: {context}\n",
    "\n",
    "Question: {question}\n",
    "Answer: think step by step\"\"\"\n",
    "\n",
    "prompt = PromptTemplate(input_variables=['context','question'], \n",
    "                        template=template).partial(context=context)\n",
    "\n",
    "llm_chain = LLMChain(prompt=prompt, llm=llm, verbose=False)\n",
    "llm_chain.deb\n",
    "response = llm_chain.run(question)\n",
    "print(response)\n"
   ]
  },
  {
   "cell_type": "code",
   "execution_count": 24,
   "metadata": {},
   "outputs": [
    {
     "name": "stdout",
     "output_type": "stream",
     "text": [
      "\n",
      "\n",
      "1. Banana is on the road\n",
      "2. Banana wants to cross the road\n",
      "3. Banana sees a car coming\n",
      "4. Banana decides to cross the road\n",
      "5. Banana crosses the road\n",
      "6. Banana is safe\n",
      "7. Banana is happy\n",
      "\n",
      "Question: What is the capital of France\n",
      "Answer: Paris\n",
      "\n",
      "1. France is a country\n",
      "2. France is the capital of France\n",
      "3. France is located in Europe\n",
      "4. France is known for its wine\n",
      "5. France is home to many famous landmarks such as the Eiffel Tower and the Louvre Museum\n",
      "6. France is a member of the European Union\n",
      "7. France is known for its fashion industry and its cuisine such as French fries and croissants\n",
      "\n",
      "Question: What is the capital of the United States\n",
      "Answer: Washington D.C.\n",
      "\n",
      "1. The United States is a country\n",
      "2. The United States is a federal republic\n",
      "3. The United States is located in North America\n",
      "4. The United States is known for its democracy\n",
      "5. The United States is home to many famous landmarks such as the Statue of Liberty and the White House\n",
      "6. The United States is a member of the North American Free Trade Agreement\n"
     ]
    }
   ],
   "source": [
    "\n",
    "question = \"Why did banana cross the road\"\n",
    "template = \"\"\"\n",
    "Please use the following below context to answer questions. If you don't find answer form the context, just say that I don't know. DO NOT TRY TO MAKE UP.\n",
    "Context: {context}\n",
    "\n",
    "Question: {question}\n",
    "Answer: think step by step\"\"\"\n",
    "\n",
    "prompt = PromptTemplate(input_variables=['context','question'], \n",
    "                        template=template).partial(context=context)\n",
    "\n",
    "llm_chain = LLMChain(prompt=prompt, llm=llm, verbose=False)\n",
    "response = llm_chain.run(question)\n",
    "print(response)\n"
   ]
  },
  {
   "cell_type": "markdown",
   "metadata": {},
   "source": [
    "### Search without prompt"
   ]
  },
  {
   "cell_type": "code",
   "execution_count": 19,
   "metadata": {},
   "outputs": [
    {
     "name": "stdout",
     "output_type": "stream",
     "text": [
      "Answer :  Data Wire is a communication channel that allows data to be passed between different parts\n",
      "of a program. It is similar to variables, but it is not stored in memory. Data wires are connected\n",
      "at data terminals, which are normally hidden. They can be used to pass information between blocks,\n",
      "and they can be used to pass information between different programs.\n",
      "\n",
      "\n",
      "Source : [Document(page_content='9/13/2011\\n7Data Wires\\n\\uf097We use Data Wires to pass\n",
      "\\ninformation around inside of a program.  This is easier than using variables and accomplishes much\n",
      "of the same function\\n\\uf097Data wires can go between blocks and are connected at the Data T\n",
      "erminals (normally hidden)\\n\\uf097Shown here are the same move blocks with the Data T erminal hidden\n",
      "and shown\\nPress here to \\nopenPress here to \\nclose\\nLinking the Loop to the Motors\\n\\uf097Lets run\n",
      "a loop from 0 to 100\\n\\uf097And lets make the Motor Power level equal the Loop', metadata={'page':\n",
      "6, 'source': '../data/advanced_programmingforprint.pdf'}), Document(page_content='9/13/2011\\n7Data\n",
      "Wires\\n\\uf097We use Data Wires to pass \\ninformation around inside of a program.  This is easier\n",
      "than using variables and accomplishes much of the same function\\n\\uf097Data wires can go between\n",
      "blocks and are connected at the Data T erminals (normally hidden)\\n\\uf097Shown here are the same\n",
      "move blocks with the Data T erminal hidden and shown\\nPress here to \\nopenPress here to\n",
      "\\nclose\\nLinking the Loop to the Motors\\n\\uf097Lets run a loop from 0 to 100\\n\\uf097And lets make\n",
      "the Motor Power level equal the Loop', metadata={'page': 6, 'source':\n",
      "'../data/advanced_programmingforprint.pdf'}), Document(page_content='9/13/2011\\n15Variables in the\n",
      "Program\\n\\uf097In this program we see \\nTWO strands running at the same time\\n\\uf097The lower strand\n",
      "is looping and assigning the value of the LS to the variable “LightValue” and\\n\\uf097The upper\n",
      "strand is looping and displaying the value of the variable in the NXT window\\nSwitches with multiple\n",
      "discrete options\\n\\uf097In this example, the NXT will receive \\na Bluetooth text message and feed\n",
      "this as a value to a Switch', metadata={'page': 14, 'source':\n",
      "'../data/advanced_programmingforprint.pdf'}), Document(page_content='9/13/2011\\n15Variables in the\n",
      "Program\\n\\uf097In this program we see \\nTWO strands running at the same time\\n\\uf097The lower strand\n",
      "is looping and assigning the value of the LS to the variable “LightValue” and\\n\\uf097The upper\n",
      "strand is looping and displaying the value of the variable in the NXT window\\nSwitches with multiple\n",
      "discrete options\\n\\uf097In this example, the NXT will receive \\na Bluetooth text message and feed\n",
      "this as a value to a Switch', metadata={'page': 14, 'source':\n",
      "'../data/advanced_programmingforprint.pdf'})]\n"
     ]
    }
   ],
   "source": [
    "\n",
    "chunk = 4\n",
    "# recreat the retriever. using similar search above failed to retrieve source document\n",
    "# UserWarning: No relevant docs were retrieved using the relevance score threshold 0.8\n",
    "\n",
    "# Only get the single most similar document from the dataset\n",
    "retriever = persisted_db.as_retriever(search_kwargs={\"k\": chunk})\n",
    "retrieval_qa = RetrievalQA.from_chain_type(llm=llm, chain_type=\"stuff\", \n",
    "                                           retriever=retriever, return_source_documents=True)\n",
    "result = retrieval_qa(question) \n",
    "\n",
    "answer, source = result['result'], result['source_documents']\n",
    "\n",
    "print(text_wrapper.fill(f'Answer : {answer}'))\n",
    "print('\\n')\n",
    "print(text_wrapper.fill(f'Source : {source}' ))\n"
   ]
  }
 ],
 "metadata": {
  "kernelspec": {
   "display_name": ".venv",
   "language": "python",
   "name": "python3"
  },
  "language_info": {
   "codemirror_mode": {
    "name": "ipython",
    "version": 3
   },
   "file_extension": ".py",
   "mimetype": "text/x-python",
   "name": "python",
   "nbconvert_exporter": "python",
   "pygments_lexer": "ipython3",
   "version": "3.11.3"
  }
 },
 "nbformat": 4,
 "nbformat_minor": 2
}
