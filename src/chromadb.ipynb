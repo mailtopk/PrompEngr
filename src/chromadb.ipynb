{
 "cells": [
  {
   "cell_type": "markdown",
   "metadata": {},
   "source": [
    "### RAG (Retrieval Augmented Generation ) \n",
    "This notebook code reads a .pdf file, chunk and store into a db.\n",
    "On requesting for an answer to the question, this code read from the stored db + model knowledge to answer \n",
    "\n",
    "LLM Model = ggml-gpt4all-j-v1.3-groovy"
   ]
  },
  {
   "cell_type": "code",
   "execution_count": 133,
   "metadata": {},
   "outputs": [],
   "source": [
    "import textwrap\n",
    "import chromadb\n",
    "\n",
    "from langchain.llms import GPT4All\n",
    "from langchain.embeddings import HuggingFaceEmbeddings\n",
    "\n",
    "from langchain.text_splitter import RecursiveCharacterTextSplitter\n",
    "from langchain.document_loaders import PyPDFLoader\n",
    "from langchain.chains import RetrievalQA\n",
    "\n",
    "\n",
    "from langchain.vectorstores import Chroma\n",
    "from chromadb.config import Settings"
   ]
  },
  {
   "cell_type": "markdown",
   "metadata": {},
   "source": [
    "Download the model from https://gpt4all.io/models/ggml-gpt4all-j-v1.3-groovy.bin (Date : 10/17/2023)\n",
    "Size of the model is 3gb."
   ]
  },
  {
   "cell_type": "code",
   "execution_count": 134,
   "metadata": {},
   "outputs": [],
   "source": [
    "CHROMA_SETTINGS = Settings(\n",
    "    persist_directory=\"../db/\",\n",
    "    anonymized_telemetry=False,\n",
    "    allow_reset=True\n",
    ")\n",
    "EMBEDDINGS_MODEL_NAME=\"all-MiniLM-L6-v2\"\n",
    "model_path = '../models/ggml-gpt4all-j-v1.3-groovy.bin'\n",
    "\n",
    "text_wrapper = textwrap.TextWrapper(width=100)"
   ]
  },
  {
   "cell_type": "markdown",
   "metadata": {},
   "source": [
    "Initialize GPT4All, Embeddings, Chroma db client and db and text Splitter"
   ]
  },
  {
   "cell_type": "code",
   "execution_count": 135,
   "metadata": {},
   "outputs": [
    {
     "name": "stdout",
     "output_type": "stream",
     "text": [
      "Found model file at  ../models/ggml-gpt4all-j-v1.3-groovy.bin\n"
     ]
    }
   ],
   "source": [
    "llm = GPT4All(model=model_path, max_tokens=800, verbose=False)\n",
    "embeddings = HuggingFaceEmbeddings(model_name=EMBEDDINGS_MODEL_NAME)\n",
    "\n",
    "chroma_client = chromadb.PersistentClient(settings=CHROMA_SETTINGS, path=\"../db/\")\n",
    "chroma_db = Chroma(embedding_function=embeddings, persist_directory=\"../db/\", \n",
    "            client_settings= CHROMA_SETTINGS, client=chroma_client)\n",
    "\n",
    "pdf_loader = PyPDFLoader(\"../data/advanced_programmingforprint.pdf\")\n",
    "text_splitter = RecursiveCharacterTextSplitter(chunk_size=500, chunk_overlap=10)\n"
   ]
  },
  {
   "cell_type": "markdown",
   "metadata": {},
   "source": [
    "Load and split files "
   ]
  },
  {
   "cell_type": "code",
   "execution_count": 136,
   "metadata": {},
   "outputs": [
    {
     "data": {
      "text/plain": [
       "32"
      ]
     },
     "execution_count": 136,
     "metadata": {},
     "output_type": "execute_result"
    }
   ],
   "source": [
    "docs = pdf_loader.load_and_split(text_splitter=text_splitter)\n",
    "len(docs)"
   ]
  },
  {
   "cell_type": "markdown",
   "metadata": {},
   "source": [
    "Batch the chunked file and add to chroma db"
   ]
  },
  {
   "cell_type": "code",
   "execution_count": 138,
   "metadata": {},
   "outputs": [],
   "source": [
    "chunk = 4\n",
    "model_n_ctx=1000\n",
    "model_n_batch = 8\n",
    "\n",
    "question = 'What is switch statement'\n",
    "\n",
    "# retrieve from vector db\n",
    "source_vector_store_retriever = chroma_db.as_retriever(search_kwargs={\"k\": chunk})\n",
    "retrieval_qa = RetrievalQA.from_chain_type(llm=llm, chain_type=\"stuff\", \n",
    "                                              retriever=source_vector_store_retriever, \n",
    "                                              return_source_documents=True)\n",
    "\n"
   ]
  },
  {
   "cell_type": "code",
   "execution_count": 139,
   "metadata": {},
   "outputs": [
    {
     "name": "stdout",
     "output_type": "stream",
     "text": [
      "Answer :  The switch statement is a programming language feature that allows you to make decisions\n",
      "based on whether or not certain conditions are met. It can be used for different purposes such as\n",
      "controlling loops, checking if variables meet specific criteria, making comparisons between values,\n",
      "etc. In the context of this code snippet, it appears to control an external device (motor) using a\n",
      "temperature sensor and switch statement logic.\n",
      "\n",
      "\n",
      "Source : [Document(page_content='\\uf097The Switch has been defined with multiple text messages to\n",
      "compare this value to (forward, back, left, right, and stop)\\n\\uf097In order to define multiple\n",
      "switch options you MUST deselect the flat view , then use the + or – options to add or delete\n",
      "options\\n\\uf097You should select one of the values as default (no new value), in this case we\n",
      "selected stop', metadata={'page': 14, 'source': '../data/advanced_programmingforprint.pdf'}),\n",
      "Document(page_content='\\uf097The Switch has been defined with multiple text messages to compare this\n",
      "value to (forward, back, left, right, and stop)\\n\\uf097In order to define multiple switch options\n",
      "you MUST deselect the flat view , then use the + or – options to add or delete options\\n\\uf097You\n",
      "should select one of the values as default (no new value), in this case we selected stop',\n",
      "metadata={'page': 14, 'source': '../data/advanced_programmingforprint.pdf'}),\n",
      "Document(page_content='\\uf097The Switch has been defined with multiple text messages to compare this\n",
      "value to (forward, back, left, right, and stop)\\n\\uf097In order to define multiple switch options\n",
      "you MUST deselect the flat view , then use the + or – options to add or delete options\\n\\uf097You\n",
      "should select one of the values as default (no new value), in this case we selected stop',\n",
      "metadata={'page': 14, 'source': '../data/advanced_programmingforprint.pdf'}),\n",
      "Document(page_content='9/13/2011\\n4The Switch, terrarium control\\n(switch nested in\n",
      "loop)\\n\\uf097Using a temperature sensor insi de a terrarium and a 9 volt \\nmotor (LEGO or\n",
      "otherwise); th is program will turn on an \\nexhaust motor to keep the terrarium temperature\n",
      "moderate\\n\\uf097This loop is set to infinite\\n\\uf097T emperature Switch\\n\\uf097IF temp > 100 °then\n",
      "turn on\\nmotor, ELSE don’t\\nThe Switch, remote control\\n(switch nested in loop)\\n\\uf097By holding\n",
      "the NXT in the hand and having', metadata={'page': 3, 'source':\n",
      "'../data/advanced_programmingforprint.pdf'})]\n"
     ]
    }
   ],
   "source": [
    "\n",
    "result = retrieval_qa(question)\n",
    "answer, source = result['result'], result['source_documents']\n",
    "\n",
    "print(text_wrapper.fill(f'Answer : {answer}'))\n",
    "print('\\n')\n",
    "print(text_wrapper.fill(f'Source : {source}' ))\n"
   ]
  }
 ],
 "metadata": {
  "kernelspec": {
   "display_name": ".venv",
   "language": "python",
   "name": "python3"
  },
  "language_info": {
   "codemirror_mode": {
    "name": "ipython",
    "version": 3
   },
   "file_extension": ".py",
   "mimetype": "text/x-python",
   "name": "python",
   "nbconvert_exporter": "python",
   "pygments_lexer": "ipython3",
   "version": "3.11.3"
  }
 },
 "nbformat": 4,
 "nbformat_minor": 2
}
