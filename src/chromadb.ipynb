{
 "cells": [
  {
   "cell_type": "markdown",
   "metadata": {},
   "source": [
    "### RAG (Retrieval Augmented Generation ) \n",
    "This notebook code reads a .pdf file, chunk and store into a db.\n",
    "On requesting for an answer to the question, this code read from the stored db + model knowledge to answer.\n",
    "\n",
    "-------------------------------------------------------------------------------------- -\n",
    ".pdf --> chunk --> store in chorma db --> retrieve data from db (similarity search) --> create prompt template --> LLM run\n",
    "-------------------------------------------------------------------------------------- -\n",
    "Context is similarity search result from custom knowledge  base\n",
    "\n",
    "LLM Model = ggml-gpt4all-j-v1.3-groovy"
   ]
  },
  {
   "cell_type": "code",
   "execution_count": 15,
   "metadata": {},
   "outputs": [],
   "source": [
    "import textwrap\n",
    "import chromadb\n",
    "\n",
    "from langchain.llms import GPT4All\n",
    "from langchain.embeddings import HuggingFaceEmbeddings\n",
    "\n",
    "from langchain.text_splitter import RecursiveCharacterTextSplitter\n",
    "from langchain.document_loaders import PyPDFLoader\n",
    "from langchain.chains import RetrievalQA\n",
    "from langchain import PromptTemplate, LLMChain\n",
    "\n",
    "\n",
    "from langchain.vectorstores import Chroma\n",
    "from chromadb.config import Settings"
   ]
  },
  {
   "cell_type": "markdown",
   "metadata": {},
   "source": [
    "Download the model from https://gpt4all.io/models/ggml-gpt4all-j-v1.3-groovy.bin (Date : 10/17/2023)\n",
    "File size of the model is 3gb."
   ]
  },
  {
   "cell_type": "code",
   "execution_count": 26,
   "metadata": {},
   "outputs": [],
   "source": [
    "CHROMA_SETTINGS = Settings(\n",
    "    persist_directory=\"../db/mychroma\",\n",
    "    anonymized_telemetry=False,\n",
    "    allow_reset=True\n",
    ")\n",
    "EMBEDDINGS_MODEL_NAME=\"all-MiniLM-L6-v2\"\n",
    "model_path = '../models/ggml-gpt4all-j-v1.3-groovy.bin'\n",
    "vector_db_path='../db/'\n",
    "\n",
    "text_wrapper = textwrap.TextWrapper(width=100)"
   ]
  },
  {
   "cell_type": "markdown",
   "metadata": {},
   "source": [
    "Initialize GPT4All, Embeddings, Chroma db client and db and text Splitter"
   ]
  },
  {
   "cell_type": "code",
   "execution_count": 17,
   "metadata": {},
   "outputs": [
    {
     "name": "stdout",
     "output_type": "stream",
     "text": [
      "Found model file at  ../models/ggml-gpt4all-j-v1.3-groovy.bin\n"
     ]
    }
   ],
   "source": [
    "llm = GPT4All(model=model_path, max_tokens=2000, verbose=True, \n",
    "              allow_download=False, repeat_last_n=0)\n",
    "embeddings = HuggingFaceEmbeddings(model_name=EMBEDDINGS_MODEL_NAME)"
   ]
  },
  {
   "cell_type": "markdown",
   "metadata": {},
   "source": [
    "Load and split files, source is NXT advanced programming "
   ]
  },
  {
   "cell_type": "code",
   "execution_count": 27,
   "metadata": {},
   "outputs": [
    {
     "data": {
      "text/plain": [
       "15"
      ]
     },
     "execution_count": 27,
     "metadata": {},
     "output_type": "execute_result"
    }
   ],
   "source": [
    "#pdf_loader = PyPDFLoader(\"../data/advanced_programmingforprint.pdf\")\n",
    "pdf_loader = PyPDFLoader(\"C:/Users/ppoob/Downloads/mc_2_patterns.pdf\")\n",
    "text_splitter = RecursiveCharacterTextSplitter(chunk_size=500, chunk_overlap=10)\n",
    "docs = pdf_loader.load_and_split(text_splitter=text_splitter)\n",
    "len(docs)   "
   ]
  },
  {
   "cell_type": "code",
   "execution_count": 28,
   "metadata": {},
   "outputs": [],
   "source": [
    "# Store into db\n",
    "chroma_db = Chroma.from_documents( documents=docs, embedding=embeddings, persist_directory=\"../db/\", \n",
    "             client_settings= CHROMA_SETTINGS) #TODO - upsert\n",
    "chroma_db.persist()\n"
   ]
  },
  {
   "cell_type": "markdown",
   "metadata": {},
   "source": [
    "### Similarity Search."
   ]
  },
  {
   "cell_type": "code",
   "execution_count": 29,
   "metadata": {},
   "outputs": [
    {
     "data": {
      "text/plain": [
       "[Document(page_content='Page | 1  2023-2024 Math Challenge   \\n \\n \\nFirst Name:  __________________ ___ Last Name:  ________________________________  Grade:  _____ ____ \\nTeacher:  _____________________ __ Parent’s email:  ___________________________________________ __ \\n \\nPatterns  \\n \\nIn Math, a pattern means things like numbers, shapes, or colors that repeat in a certain way. When numbers follow a \\nspecial rule and go together, that\\'s called a pattern too. Sometimes, we also call patterns \"sequences.\"', metadata={'page': 0, 'source': 'C:/Users/ppoob/Downloads/mc_2_patterns.pdf'}),\n",
       " Document(page_content='Page | 1  2023-2024 Math Challenge   \\n \\n \\nFirst Name:  __________________ ___ Last Name:  ________________________________  Grade:  _____ ____ \\nTeacher:  _____________________ __ Parent’s email:  ___________________________________________ __ \\n \\nPatterns  \\n \\nIn Math, a pattern means things like numbers, shapes, or colors that repeat in a certain way. When numbers follow a \\nspecial rule and go together, that\\'s called a pattern too. Sometimes, we also call patterns \"sequences.\"', metadata={'page': 0, 'source': 'C:/Users/ppoob/Downloads/mc_2_patterns.pdf'}),\n",
       " Document(page_content='In this  Math Challenge, all the pro blems have patterns hiding in them. Have fun solving them!  \\n \\nKinder & First Grade: solve at least  3 problems.   \\nSecond & Third Grade: solve at least  7 problems.   \\nFourth Grade and above: solve at least  12 problems.   \\n \\n Answer  \\n1. Jake cross ed out every third number on the list  starting with 3. How many numbers \\ndid he cross  out? \\n1 2 3 4 5 6 7 8 9 10 11 12 13 14 15', metadata={'page': 0, 'source': 'C:/Users/ppoob/Downloads/mc_2_patterns.pdf'}),\n",
       " Document(page_content='In this  Math Challenge, all the pro blems have patterns hiding in them. Have fun solving them!  \\n \\nKinder & First Grade: solve at least  3 problems.   \\nSecond & Third Grade: solve at least  7 problems.   \\nFourth Grade and above: solve at least  12 problems.   \\n \\n Answer  \\n1. Jake cross ed out every third number on the list  starting with 3. How many numbers \\ndid he cross  out? \\n1 2 3 4 5 6 7 8 9 10 11 12 13 14 15', metadata={'page': 0, 'source': 'C:/Users/ppoob/Downloads/mc_2_patterns.pdf'})]"
      ]
     },
     "execution_count": 29,
     "metadata": {},
     "output_type": "execute_result"
    }
   ],
   "source": [
    "question = \"What is data Wires  ? \"\n",
    "question = \"what are patterns ?\"\n",
    "matched_docs = chroma_db.similarity_search(question)\n",
    "matched_docs"
   ]
  },
  {
   "cell_type": "markdown",
   "metadata": {},
   "source": [
    "### Retrieve from Database\n",
    "- Open DB\n",
    "- Similarity search from persisted DB\n",
    "- Create context"
   ]
  },
  {
   "cell_type": "code",
   "execution_count": 30,
   "metadata": {},
   "outputs": [
    {
     "name": "stdout",
     "output_type": "stream",
     "text": [
      "4\n",
      "Page | 1  2023-2024 Math Challenge        First Name:  __________________ ___ Last Name:\n",
      "________________________________  Grade:  _____ ____  Teacher:  _____________________ __ Parent’s\n",
      "email:  ___________________________________________ __    Patterns     In Math, a pattern means\n",
      "things like numbers, shapes, or colors that repeat in a certain way. When numbers follow a  special\n",
      "rule and go together, that's called a pattern too. Sometimes, we also call patterns \"sequences.\"a.\n",
      "b.            Consecutive numbers  are the numbers that continuously follow each other, one after\n",
      "another in a regular counting order or in the order from least to greatest .            a.     b.\n",
      "2  6  10     3  9  15 18     4  10  16  22      Input  Output   1 5  2 7  3 9  4 11  … …  10 ?2.\n",
      "Find each number that is hiding under each  flower to complete the pattern.   10 20  40   60 70 80\n",
      "100         3. Lilian crossed out all even numbers from the list. Maria then crossed out every fifth\n",
      "number from the original  list. How many numbers are left un cross ed?  1 2 3 4 5 6 7 8 9 10 11 12\n",
      "13 14 15           4. The following list of numbers follows a pattern. Three numbers are covered by\n",
      "a  rabbit, a turtle and a zebra. What is the sum of the numbers under the se animals ?Prime numbers\n",
      "are numbers that have only 2 factors: 1 and themselves. For example,  the first 5 prime numbers are\n",
      "2, 3, 5, 7, and 11.          a.         b.       18. Melody organized some whole numbers in a chart\n",
      "with a specific pattern as follow:                         In which column will the number 5 50\n",
      "appear?        Solution is available on  October 20, 2023    www.mathinaction.org    8 24       15\n",
      "240      13  117               …   …   …   …   …\n"
     ]
    }
   ],
   "source": [
    "#retrieve from vector db\n",
    "persisted_db = Chroma(persist_directory=CHROMA_SETTINGS.persist_directory, \n",
    "                            embedding_function=embeddings, \n",
    "                            client_settings=CHROMA_SETTINGS)\n",
    "# Only retrieve documents that have a relevance score\n",
    "# Above a 0.8 threshold\n",
    "# source_vector_store_retriever = persisted_db.as_retriever(search_type=\"similarity_score_threshold\",\n",
    "#                                             search_kwargs={'score_threshold': 0.8})\n",
    "\n",
    "source_vector_store_retriever = persisted_db.as_retriever(search_type=\"mmr\")\n",
    "\n",
    "matched_docs = source_vector_store_retriever.get_relevant_documents(question)\n",
    "\n",
    "print(len(matched_docs))\n",
    "context = ''\n",
    "for doc in matched_docs:\n",
    "    context = context + doc.page_content\n",
    "\n",
    "print(text_wrapper.fill(context))"
   ]
  },
  {
   "cell_type": "markdown",
   "metadata": {},
   "source": [
    "Create Prompt (Zero-shot) template, input variables\n",
    "- context\n",
    "- question\n",
    "\n",
    "Output - llm chain not returning full response, where as RetrievalQA.from_chain_type is retuning full expected response."
   ]
  },
  {
   "cell_type": "code",
   "execution_count": 31,
   "metadata": {},
   "outputs": [],
   "source": [
    "#persisted_db.delete_collection()\n",
    "#persisted_db.get()"
   ]
  },
  {
   "cell_type": "code",
   "execution_count": 33,
   "metadata": {},
   "outputs": [
    {
     "name": "stdout",
     "output_type": "stream",
     "text": [
      "Context : Page | 1  2023-2024 Math Challenge   \n",
      " \n",
      " \n",
      "First Name:  __________________ ___ Last Name:  ________________________________  Grade:  _____ ____ \n",
      "Teacher:  _____________________ __ Parent’s email:  ___________________________________________ __ \n",
      " \n",
      "Patterns  \n",
      " \n",
      "In Math, a pattern means things like numbers, shapes, or colors that repeat in a certain way. When numbers follow a \n",
      "special rule and go together, that's called a pattern too. Sometimes, we also call patterns \"sequences.\"a.                                                                         b. \n",
      " \n",
      " \n",
      " \n",
      " \n",
      " \n",
      "Consecutive numbers  are the numbers that continuously follow each other, one after \n",
      "another in a regular counting order or in the order from least to greatest .   \n",
      " \n",
      " \n",
      " \n",
      " \n",
      "a.  \n",
      " \n",
      "b.  \n",
      "   2  6  10 \n",
      " \n",
      " 3  9  15 18 \n",
      " \n",
      " 4  10  16  22 \n",
      " \n",
      " \n",
      "Input  Output  \n",
      "1 5 \n",
      "2 7 \n",
      "3 9 \n",
      "4 11 \n",
      "… … \n",
      "10 ?2. Find each number that is hiding under each  flower to complete the pattern.  \n",
      "10 20  40  \n",
      "60 70 80  100 \n",
      "  \n",
      "   \n",
      "3. Lilian crossed out all even numbers from the list. Maria then crossed out every fifth \n",
      "number from the original  list. How many numbers are left un cross ed? \n",
      "1 2 3 4 5 6 7 8 9 10 11 12 13 14 15 \n",
      " \n",
      "  \n",
      "   \n",
      "4. The following list of numbers follows a pattern. Three numbers are covered by a \n",
      "rabbit, a turtle and a zebra. What is the sum of the numbers under the se animals ?Prime numbers  are numbers that have only 2 factors: 1 and themselves. For example, \n",
      "the first 5 prime numbers are 2, 3, 5, 7, and 11.  \n",
      "  \n",
      " \n",
      " \n",
      "a.  \n",
      " \n",
      " \n",
      " \n",
      "b.  \n",
      "   \n",
      "18. Melody organized some whole numbers in a chart with a specific pattern as follow:  \n",
      " \n",
      " \n",
      " \n",
      " \n",
      " \n",
      " \n",
      " \n",
      " \n",
      " \n",
      " \n",
      " \n",
      "In which column will the number 5 50 appear?   \n",
      "   \n",
      "Solution is available on  October 20, 2023   \n",
      "www.mathinaction.org   \n",
      "8 24   \n",
      " \n",
      " 15  240  \n",
      " \n",
      " 13  117  \n",
      " \n",
      " \n",
      " \n",
      " \n",
      " \n",
      " \n",
      "…   …   …   …   …\n",
      "  a. Patterns are things that repeat in a certain way, such as numbers, shapes, or colors.  b.\n",
      "Patterns are also called sequences.  c. Patterns are also called sequences.  d. Patterns are also\n",
      "called sequences.  e. Patterns are also called sequences.  f. Patterns are also called sequences.\n",
      "g. Patterns are also called sequences.  h. Patterns are also called sequences.  i. Patterns are also\n",
      "called sequences.  j. Patterns are also called sequences.  k. Patterns are also called sequences.\n",
      "l. Patterns are also called sequences.  m. Patterns are also called sequences.  n. Patterns are also\n",
      "called sequences.  o. Patterns are also called sequences.  p. Patterns are also called sequences.\n",
      "q. Patterns are also called sequences.  r. Patterns are also called sequences.  s. Patterns are also\n",
      "called sequences.  t. Patterns are also called sequences.  u. Patterns are also called sequences.\n",
      "v. Patterns are also called sequences.  w. Patterns are also called sequences.  x. Patterns are also\n",
      "called sequences.  y\n"
     ]
    }
   ],
   "source": [
    "print(f\"Context : {context}\")\n",
    "template = \"\"\"\n",
    "Please use the following below context to answer questions. If you don't know the answer, just say that you don't know. don't try to make up an answer.\n",
    "Context: {context}\n",
    "Question: {question}\n",
    "Answer: \"\"\"\n",
    "\n",
    "prompt = PromptTemplate(input_variables=['context','question'], template=template).partial(context=context)\n",
    "\n",
    "llm_chain = LLMChain(prompt=prompt, llm=llm, verbose=False)\n",
    "response = llm_chain.run(question)\n",
    "print(text_wrapper.fill(response))\n"
   ]
  },
  {
   "cell_type": "markdown",
   "metadata": {},
   "source": [
    "### Leading words example\n",
    "\n",
    "The model is forced to break down its solution into multiple, more manageable steps rather than being allowed to just hazard a guess\n",
    "```\n",
    "“think step by step”\n",
    "```"
   ]
  },
  {
   "cell_type": "code",
   "execution_count": 20,
   "metadata": {},
   "outputs": [
    {
     "name": "stdout",
     "output_type": "stream",
     "text": [
      ", what is data wire? \n",
      "\n",
      "Data wire is a communication channel that allows data to be passed between different parts of a program. It is a way to pass information between different blocks of code in a program.\n",
      "\n",
      "In the context of the program, data wires are used to pass information between the loop and the motors. The loop is used to control the motor power level, and the motors are controlled by the data wires.\n",
      "\n",
      "The program also uses variables to store information. In this case, the program uses two variables, \"LightValue\" and \"MotorPower\", to store information. The program uses these variables to control the motor power level and to display the value of the variables in the NXT window.\n",
      "\n",
      "Overall, the program uses data wires and variables to control the motor power level and display the value of the variables in the NXT window.\n"
     ]
    }
   ],
   "source": [
    "\n",
    "template = \"\"\"\n",
    "Please use the following below context to answer questions. If you don't know the answer, just say that you don't know. don't try to make up an answer.\n",
    "Context: {context}\n",
    "\n",
    "Question: {question}\n",
    "Answer: think step by step\"\"\"\n",
    "\n",
    "prompt = PromptTemplate(input_variables=['context','question'], \n",
    "                        template=template).partial(context=context)\n",
    "\n",
    "llm_chain = LLMChain(prompt=prompt, llm=llm, verbose=False)\n",
    "llm_chain.deb\n",
    "response = llm_chain.run(question)\n",
    "print(response)\n"
   ]
  },
  {
   "cell_type": "code",
   "execution_count": 25,
   "metadata": {},
   "outputs": [
    {
     "name": "stdout",
     "output_type": "stream",
     "text": [
      "\n",
      "\n",
      "1. Banana is on the road\n",
      "2. Banana wants to cross the road\n",
      "3. Banana sees a car coming\n",
      "4. Banana decides to cross the road\n",
      "5. Banana crosses the road\n",
      "6. Banana is safe\n",
      "7. Banana is happy\n",
      "8. Banana is done\n",
      "9. Banana is happy\n",
      "10. Banana is happy\n",
      "11. Banana is happy\n",
      "12. Banana is happy\n",
      "13. Banana is happy\n",
      "14. Banana is happy\n",
      "15. Banana is happy\n",
      "16. Banana is happy\n",
      "17. Banana is happy\n",
      "18. Banana is happy\n",
      "19. Banana is happy\n",
      "20. Banana is happy\n",
      "21. Banana is happy\n",
      "22. Banana is happy\n",
      "23. Banana is happy\n",
      "24. Banana is happy\n",
      "25. Banana is happy\n",
      "26. Banana is happy\n",
      "27. Banana is happy\n",
      "28. Banana is happy\n",
      "29. Banana is happy\n",
      "30. Banana is happy\n",
      "31. Banana is happy\n",
      "32. Banana is happy\n",
      "33. Banana is happy\n",
      "34. Banana is happy\n",
      "35. Banana is happy\n",
      "36. Banana is happy\n",
      "37. Banana is happy\n",
      "38. Banana is happy\n",
      "39. Banana is happy\n",
      "40. Banana is happy\n",
      "41. Banana\n"
     ]
    }
   ],
   "source": [
    "\n",
    "question = \"Why did banana cross the road\"\n",
    "template = \"\"\"Please use the following below context to answer questions. If you don't find answer form the context, just say that I don't know. DO NOT TRY TO MAKE UP.\n",
    "Context: {context}\n",
    "\n",
    "Question: {question}\n",
    "Answer: think step by step\"\"\"\n",
    "\n",
    "prompt = PromptTemplate(input_variables=['context','question'], \n",
    "                        template=template).partial(context=context)\n",
    "\n",
    "llm_chain = LLMChain(prompt=prompt, llm=llm, verbose=False)\n",
    "response = llm_chain.run(question)\n",
    "print(response)\n"
   ]
  },
  {
   "cell_type": "markdown",
   "metadata": {},
   "source": [
    "### Search without prompt"
   ]
  },
  {
   "cell_type": "code",
   "execution_count": 19,
   "metadata": {},
   "outputs": [
    {
     "name": "stdout",
     "output_type": "stream",
     "text": [
      "Answer :  Data Wire is a communication channel that allows data to be passed between different parts\n",
      "of a program. It is similar to variables, but it is not stored in memory. Data wires are connected\n",
      "at data terminals, which are normally hidden. They can be used to pass information between blocks,\n",
      "and they can be used to pass information between different programs.\n",
      "\n",
      "\n",
      "Source : [Document(page_content='9/13/2011\\n7Data Wires\\n\\uf097We use Data Wires to pass\n",
      "\\ninformation around inside of a program.  This is easier than using variables and accomplishes much\n",
      "of the same function\\n\\uf097Data wires can go between blocks and are connected at the Data T\n",
      "erminals (normally hidden)\\n\\uf097Shown here are the same move blocks with the Data T erminal hidden\n",
      "and shown\\nPress here to \\nopenPress here to \\nclose\\nLinking the Loop to the Motors\\n\\uf097Lets run\n",
      "a loop from 0 to 100\\n\\uf097And lets make the Motor Power level equal the Loop', metadata={'page':\n",
      "6, 'source': '../data/advanced_programmingforprint.pdf'}), Document(page_content='9/13/2011\\n7Data\n",
      "Wires\\n\\uf097We use Data Wires to pass \\ninformation around inside of a program.  This is easier\n",
      "than using variables and accomplishes much of the same function\\n\\uf097Data wires can go between\n",
      "blocks and are connected at the Data T erminals (normally hidden)\\n\\uf097Shown here are the same\n",
      "move blocks with the Data T erminal hidden and shown\\nPress here to \\nopenPress here to\n",
      "\\nclose\\nLinking the Loop to the Motors\\n\\uf097Lets run a loop from 0 to 100\\n\\uf097And lets make\n",
      "the Motor Power level equal the Loop', metadata={'page': 6, 'source':\n",
      "'../data/advanced_programmingforprint.pdf'}), Document(page_content='9/13/2011\\n15Variables in the\n",
      "Program\\n\\uf097In this program we see \\nTWO strands running at the same time\\n\\uf097The lower strand\n",
      "is looping and assigning the value of the LS to the variable “LightValue” and\\n\\uf097The upper\n",
      "strand is looping and displaying the value of the variable in the NXT window\\nSwitches with multiple\n",
      "discrete options\\n\\uf097In this example, the NXT will receive \\na Bluetooth text message and feed\n",
      "this as a value to a Switch', metadata={'page': 14, 'source':\n",
      "'../data/advanced_programmingforprint.pdf'}), Document(page_content='9/13/2011\\n15Variables in the\n",
      "Program\\n\\uf097In this program we see \\nTWO strands running at the same time\\n\\uf097The lower strand\n",
      "is looping and assigning the value of the LS to the variable “LightValue” and\\n\\uf097The upper\n",
      "strand is looping and displaying the value of the variable in the NXT window\\nSwitches with multiple\n",
      "discrete options\\n\\uf097In this example, the NXT will receive \\na Bluetooth text message and feed\n",
      "this as a value to a Switch', metadata={'page': 14, 'source':\n",
      "'../data/advanced_programmingforprint.pdf'})]\n"
     ]
    }
   ],
   "source": [
    "\n",
    "chunk = 4\n",
    "# recreat the retriever. using similar search above failed to retrieve source document\n",
    "# UserWarning: No relevant docs were retrieved using the relevance score threshold 0.8\n",
    "\n",
    "# Only get the single most similar document from the dataset\n",
    "retriever = persisted_db.as_retriever(search_kwargs={\"k\": chunk})\n",
    "retrieval_qa = RetrievalQA.from_chain_type(llm=llm, chain_type=\"stuff\", \n",
    "                                           retriever=retriever, return_source_documents=True)\n",
    "result = retrieval_qa(question) \n",
    "\n",
    "answer, source = result['result'], result['source_documents']\n",
    "\n",
    "print(text_wrapper.fill(f'Answer : {answer}'))\n",
    "print('\\n')\n",
    "print(text_wrapper.fill(f'Source : {source}' ))\n"
   ]
  }
 ],
 "metadata": {
  "kernelspec": {
   "display_name": ".venv",
   "language": "python",
   "name": "python3"
  },
  "language_info": {
   "codemirror_mode": {
    "name": "ipython",
    "version": 3
   },
   "file_extension": ".py",
   "mimetype": "text/x-python",
   "name": "python",
   "nbconvert_exporter": "python",
   "pygments_lexer": "ipython3",
   "version": "3.11.3"
  }
 },
 "nbformat": 4,
 "nbformat_minor": 2
}
