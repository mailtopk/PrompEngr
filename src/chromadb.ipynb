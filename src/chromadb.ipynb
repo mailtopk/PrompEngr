{
 "cells": [
  {
   "cell_type": "markdown",
   "metadata": {},
   "source": [
    "### RAG (Retrieval Augmented Generation ) \n",
    "This notebook code reads a .pdf file, chunk and store into a db.\n",
    "On requesting for an answer to the question, this code read from the stored db + model knowledge to answer \n",
    "\n",
    "LLM Model = ggml-gpt4all-j-v1.3-groovy"
   ]
  },
  {
   "cell_type": "code",
   "execution_count": 1,
   "metadata": {},
   "outputs": [],
   "source": [
    "import textwrap\n",
    "import chromadb\n",
    "\n",
    "from langchain.llms import GPT4All\n",
    "from langchain.embeddings import HuggingFaceEmbeddings\n",
    "\n",
    "from langchain.text_splitter import RecursiveCharacterTextSplitter\n",
    "from langchain.document_loaders import PyPDFLoader\n",
    "from langchain.chains import RetrievalQA\n",
    "from langchain import PromptTemplate, LLMChain\n",
    "\n",
    "\n",
    "from langchain.vectorstores import Chroma\n",
    "from chromadb.config import Settings"
   ]
  },
  {
   "cell_type": "markdown",
   "metadata": {},
   "source": [
    "Download the model from https://gpt4all.io/models/ggml-gpt4all-j-v1.3-groovy.bin (Date : 10/17/2023)\n",
    "File size of the model is 3gb."
   ]
  },
  {
   "cell_type": "code",
   "execution_count": 8,
   "metadata": {},
   "outputs": [],
   "source": [
    "CHROMA_SETTINGS = Settings(\n",
    "    persist_directory=\"../db/\",\n",
    "    anonymized_telemetry=False,\n",
    "    allow_reset=True\n",
    ")\n",
    "EMBEDDINGS_MODEL_NAME=\"all-MiniLM-L6-v2\"\n",
    "model_path = '../models/ggml-gpt4all-j-v1.3-groovy.bin'\n",
    "vector_db_path='../db/'\n",
    "\n",
    "text_wrapper = textwrap.TextWrapper(width=100)"
   ]
  },
  {
   "cell_type": "markdown",
   "metadata": {},
   "source": [
    "Initialize GPT4All, Embeddings, Chroma db client and db and text Splitter"
   ]
  },
  {
   "cell_type": "code",
   "execution_count": 21,
   "metadata": {},
   "outputs": [
    {
     "name": "stdout",
     "output_type": "stream",
     "text": [
      "Found model file at  ../models/ggml-gpt4all-j-v1.3-groovy.bin\n"
     ]
    }
   ],
   "source": [
    "llm = GPT4All(model=model_path, max_tokens=1800, verbose=True, allow_download=False, repeat_last_n=0) # download if mode not exist\n",
    "embeddings = HuggingFaceEmbeddings(model_name=EMBEDDINGS_MODEL_NAME)"
   ]
  },
  {
   "cell_type": "markdown",
   "metadata": {},
   "source": [
    "Load and split files, source is NXT advanced programming "
   ]
  },
  {
   "cell_type": "code",
   "execution_count": 10,
   "metadata": {},
   "outputs": [
    {
     "data": {
      "text/plain": [
       "32"
      ]
     },
     "execution_count": 10,
     "metadata": {},
     "output_type": "execute_result"
    }
   ],
   "source": [
    "pdf_loader = PyPDFLoader(\"../data/advanced_programmingforprint.pdf\")\n",
    "text_splitter = RecursiveCharacterTextSplitter(chunk_size=500, chunk_overlap=10)\n",
    "docs = pdf_loader.load_and_split(text_splitter=text_splitter)\n",
    "len(docs)"
   ]
  },
  {
   "cell_type": "code",
   "execution_count": 11,
   "metadata": {},
   "outputs": [],
   "source": [
    "# Store into db\n",
    "chroma_db = Chroma.from_documents( documents=docs, embedding=embeddings, persist_directory=\"../db/\", \n",
    "             client_settings= CHROMA_SETTINGS)\n",
    "chroma_db.persist()\n"
   ]
  },
  {
   "cell_type": "markdown",
   "metadata": {},
   "source": [
    "### Similarity Search."
   ]
  },
  {
   "cell_type": "code",
   "execution_count": null,
   "metadata": {},
   "outputs": [],
   "source": [
    "question = \"What is data Wires  ? \"\n",
    "matched_docs = chroma_db.similarity_search(question)\n",
    "\n",
    "for match_doc in matched_docs:\n",
    "    print(match_doc.page_content)\n",
    "    print()\n"
   ]
  },
  {
   "cell_type": "markdown",
   "metadata": {},
   "source": [
    "### Retrieve from Database\n",
    "- Open DB\n",
    "- Similarity search from persisted DB\n",
    "- Create context"
   ]
  },
  {
   "cell_type": "code",
   "execution_count": 20,
   "metadata": {},
   "outputs": [
    {
     "name": "stdout",
     "output_type": "stream",
     "text": [
      "9/13/2011 7Data Wires We use Data Wires to pass  information around inside of a program.  This is\n",
      "easier than using variables and accomplishes much of the same function Data wires can go between\n",
      "blocks and are connected at the Data T erminals (normally hidden) Shown here are the same move\n",
      "blocks with the Data T erminal hidden and shown Press here to  openPress here to  close Linking the\n",
      "Loop to the Motors Lets run a loop from 0 to 100 And lets make the Motor Power level equal the\n",
      "Loop  9/13/2011 15Variables in the Program In this program we see  TWO strands running at the same\n",
      "time The lower strand is looping and assigning the value of the LS to the variable “LightValue” and\n",
      "The upper strand is looping and displaying the value of the variable in the NXT window Switches\n",
      "with multiple discrete options In this example, the NXT will receive  a Bluetooth text message and\n",
      "feed this as a value to a Switch  9/13/2011 17Action Palette The five action palette  blocks:\n",
      "Motor Sound Display Send message Lamp (can use motor as  well) Most of this can be  accessed\n",
      "through the common palette, although there are slight differences Sensor Palette The nine sensor\n",
      "blocks: T ouch sensor Sound sensor Light sensor Distance sensor NXT buttons Rotation sensor\n",
      "Timer Receive message Te m p e r a t u r e All of these are used as data  sources for other\n",
      "parts of your program  9/13/2011 1 Presented by T om Bickford Executive Director Maine\n",
      "RoboticsAdvanced Programming with LEGO® NXT MindStorms Advanced topics in MindStorms Loops\n",
      "Switches Nested Loops and Switches Data Wires Program view and Help options Display Math\n",
      "Variables Flat view versus Expanded view The block menus\n"
     ]
    }
   ],
   "source": [
    "#retrieve from vector db\n",
    "persisted_db = Chroma(persist_directory=CHROMA_SETTINGS.persist_directory, \n",
    "                            embedding_function=embeddings, \n",
    "                            client_settings=CHROMA_SETTINGS)\n",
    "\n",
    "source_vector_store_retriever = persisted_db.as_retriever(search_type=\"similarity_score_threshold\",\n",
    "                                            search_kwargs={'score_threshold': 0.8})\n",
    "\n",
    "matched_docs = persisted_db.similarity_search(question)\n",
    "\n",
    "context = ''\n",
    "for doc in matched_docs:\n",
    "    context = context + doc.page_content + \"\\n\\n\"\n",
    "\n",
    "print(text_wrapper.fill(context))"
   ]
  },
  {
   "cell_type": "markdown",
   "metadata": {},
   "source": [
    "Create Prompt template, input variables\n",
    "- context\n",
    "- question\n",
    "\n",
    "Output - llm chain not returning full response, where as RetrievalQA.from_chain_type is retuning full expected response."
   ]
  },
  {
   "cell_type": "code",
   "execution_count": 23,
   "metadata": {},
   "outputs": [
    {
     "name": "stdout",
     "output_type": "stream",
     "text": [
      "\n",
      "\n",
      "\u001b[1m> Entering new LLMChain chain...\u001b[0m\n",
      "Prompt after formatting:\n",
      "\u001b[32;1m\u001b[1;3m\n",
      "Please use the following context to answer questions. If you don't know the answer, say I am sorry I don't know.\n",
      "Context: 9/13/2011\n",
      "7Data Wires\n",
      "We use Data Wires to pass \n",
      "information around inside of a program.  This is easier than using variables and accomplishes much of the same function\n",
      "Data wires can go between blocks and are connected at the Data T erminals (normally hidden)\n",
      "Shown here are the same move blocks with the Data T erminal hidden and shown\n",
      "Press here to \n",
      "openPress here to \n",
      "close\n",
      "Linking the Loop to the Motors\n",
      "Lets run a loop from 0 to 100\n",
      "And lets make the Motor Power level equal the Loop\n",
      "\n",
      "9/13/2011\n",
      "15Variables in the Program\n",
      "In this program we see \n",
      "TWO strands running at the same time\n",
      "The lower strand is looping and assigning the value of the LS to the variable “LightValue” and\n",
      "The upper strand is looping and displaying the value of the variable in the NXT window\n",
      "Switches with multiple discrete options\n",
      "In this example, the NXT will receive \n",
      "a Bluetooth text message and feed this as a value to a Switch\n",
      "\n",
      "9/13/2011\n",
      "17Action Palette\n",
      "The five action palette \n",
      "blocks:\n",
      "Motor\n",
      "Sound\n",
      "Display\n",
      "Send message\n",
      "Lamp (can use motor as \n",
      "well)\n",
      "Most of this can be \n",
      "accessed through the common palette, although there are slight differences\n",
      "Sensor Palette\n",
      "The nine sensor blocks:\n",
      "T ouch sensor\n",
      "Sound sensor\n",
      "Light sensor\n",
      "Distance sensor\n",
      "NXT buttons\n",
      "Rotation sensor\n",
      "Timer\n",
      "Receive message\n",
      "Te m p e r a t u r e\n",
      "All of these are used as data \n",
      "sources for other parts of your program\n",
      "\n",
      "9/13/2011\n",
      "1\n",
      "Presented by T om Bickford\n",
      "Executive Director\n",
      "Maine RoboticsAdvanced Programming\n",
      "with LEGO® NXT MindStorms\n",
      "Advanced topics in MindStorms\n",
      "Loops\n",
      "Switches\n",
      "Nested Loops and Switches\n",
      "Data Wires\n",
      "Program view and Help options\n",
      "Display\n",
      "Math\n",
      "Variables\n",
      "Flat view versus Expanded view\n",
      "The block menus\n",
      "\n",
      "\n",
      " \n",
      "Question: What is data Wires  ? \n",
      "Answer: Here you go\u001b[0m\n",
      "\n",
      "\u001b[1m> Finished chain.\u001b[0m\n",
      "Response :  Data wires are a way to pass information around inside a program. They are connected at\n",
      "the Data Terminals (normally hidden) and can go between blocks. They are easier to use than\n",
      "variables and accomplish much of the same function.  Here is an example of the same move blocks with\n",
      "the Data Terminal hidden and shown:  Press here to open the Data Terminal Press here to close the\n",
      "Data Terminal  Here is an example of the same move blocks with the Data Terminal hidden and shown:\n",
      "Press here to open the Data Terminal Press here to close the Data Terminal  In this program, we use\n",
      "Data Wires to pass information between the two strands running at the same time. The lower strand is\n",
      "looping and assigning the value of the LS to the variable \"LightValue\" and the upper strand is\n",
      "looping and displaying the value of the variable in the NXT window.  Switch statements with multiple\n",
      "discrete options:  In this example, the NXT will receive a Bluetooth text message and feed this as a\n",
      "value to a Switch.  Action Palette Blocks:  The five action palette blocks: Motor, Sound, Display,\n",
      "Send Message, and Lamp (can use motor as well).  Most of these\n"
     ]
    }
   ],
   "source": [
    "template = \"\"\"\n",
    "Please use the following context to answer questions. If you don't know the answer, say I am sorry I don't know.\n",
    "Context: {context}\n",
    " \n",
    "Question: {question}\n",
    "Answer: Here you go\"\"\"\n",
    "\n",
    "prompt = PromptTemplate(input_variables=['context','question'], template=template).partial(context=context)\n",
    "\n",
    "llm_chain = LLMChain(prompt=prompt, llm=llm, verbose=True)\n",
    "response = llm_chain.run(question)\n",
    "print(text_wrapper.fill(f'Response {response}' ))"
   ]
  },
  {
   "cell_type": "markdown",
   "metadata": {},
   "source": [
    "Response from LLM without prompting"
   ]
  },
  {
   "cell_type": "code",
   "execution_count": null,
   "metadata": {},
   "outputs": [],
   "source": [
    "chunk = 4\n",
    "retriever = persisted_db.as_retriever(search_kwargs={\"k\": chunk})\n",
    "retrieval_qa = RetrievalQA.from_chain_type(llm=llm, chain_type=\"stuff\", retriever=retriever, return_source_documents=True)\n",
    "result = retrieval_qa(question) \n",
    "\n",
    "answer, source = result['result'], result['source_documents']\n",
    "\n",
    "print(text_wrapper.fill(f'Answer : {answer}'))\n",
    "print('\\n')\n",
    "print(text_wrapper.fill(f'Source : {source}' ))\n"
   ]
  },
  {
   "cell_type": "markdown",
   "metadata": {},
   "source": [
    "### Custom Prompt (WIP)\n",
    "\n",
    "### Prompt types\n",
    "- Leading words\n",
    "\n",
    "The model is forced to break down its solution into multiple, more manageable steps rather than being allowed to just hazard a guess\n",
    "```\n",
    "“think step by step”\n",
    "```"
   ]
  },
  {
   "cell_type": "code",
   "execution_count": 28,
   "metadata": {},
   "outputs": [
    {
     "name": "stdout",
     "output_type": "stream",
     "text": [
      "Answer :  The answer depends on which time period or geological era we are referring to. However,\n",
      "some of the earliest known animals include trilobites (around 520 million years ago), conodonts\n",
      "(about 542-541 million years ago) and jawless fish such as agnathans (which evolved around 540\n",
      "million years ago).\n",
      "\n",
      "\n",
      "Source : [Document(page_content='counter (0 to 100) which would match the range of the motor power\n",
      "level\\n\\uf097You need to go to the LOOP block and click the “show counter” option at the\n",
      "bottom\\n\\uf097Now open up the motor Data T erminal and use the cursor to click between the LOOPS\n",
      "counter button and the motor speed control\\n\\uf097Set the motor duration to 0.1 second\\n\\uf097Now\n",
      "the robot will start at a stand still (count = power = 0)', metadata={'page': 6, 'source':\n",
      "'../data/advanced_programmingforprint.pdf'}), Document(page_content='9/13/2011\\n4The Switch,\n",
      "terrarium control\\n(switch nested in loop)\\n\\uf097Using a temperature sensor insi de a terrarium and\n",
      "a 9 volt \\nmotor (LEGO or otherwise); th is program will turn on an \\nexhaust motor to keep the\n",
      "terrarium temperature moderate\\n\\uf097This loop is set to infinite\\n\\uf097T emperature\n",
      "Switch\\n\\uf097IF temp > 100 °then turn on\\nmotor, ELSE don’t\\nThe Switch, remote control\\n(switch\n",
      "nested in loop)\\n\\uf097By holding the NXT in the hand and having', metadata={'page': 3, 'source':\n",
      "'../data/advanced_programmingforprint.pdf'}), Document(page_content='9/13/2011\\n19Advanced\n",
      "Palette\\n\\uf097The 10 Advanced blocks\\n\\uf097Number to text\\n\\uf097Te x t\\n\\uf097Keep\n",
      "alive\\n\\uf097File access\\n\\uf097Calibrate sensor\\n\\uf097Reset motor\\n\\uf097Start data-\n",
      "logging\\n\\uf097Stop data-logging\\n\\uf097Bluetooth connection\\n\\uf097Compass sensor\\nImage\n",
      "files\\n\\uf097The NXT -g software (MindStorms) uses RIC image files, which \\nis a raster based image\n",
      "format.\\n\\uf097NXTRICeditV2 is available on li ne to edit your own images\\n\\uf097These image files\n",
      "need to be in the program file directory \\n/engine/pictures in order to be  automatically available\n",
      "with', metadata={'page': 18, 'source': '../data/advanced_programmingforprint.pdf'}),\n",
      "Document(page_content='9/13/2011\\n5Remote Control\\n(Multiple nested switches)\\n\\uf097What if you\n",
      "want to use the arrow keys to turn right and left \\nand the enter key to go forward and a touch\n",
      "sensor if you want to go backwards?\\n\\uf097You use multiple nested switches inside of a\n",
      "loop\\n\\uf097IF right arrow , turn right\\n\\uf097ELSE if left arrow , turn left\\n\\uf097ELSE if enter\n",
      "button, go straight\\n\\uf097ELSE if touch sensor on 1, go back\\noELSE shut off motors\\nRemote\n",
      "Control\\n(Multiple nested switches)\\n\\uf097As you start to nest multiple loops and',\n",
      "metadata={'page': 4, 'source': '../data/advanced_programmingforprint.pdf'})]\n"
     ]
    }
   ],
   "source": [
    "question = 'what is the first animal that evolved on earth ?'\n",
    "result = retrieval_qa(question)\n",
    "answer, source = result['result'], result['source_documents']\n",
    "\n",
    "print(text_wrapper.fill(f'Answer : {answer}'))\n",
    "print('\\n')\n",
    "print(text_wrapper.fill(f'Source : {source}' ))"
   ]
  }
 ],
 "metadata": {
  "kernelspec": {
   "display_name": ".venv",
   "language": "python",
   "name": "python3"
  },
  "language_info": {
   "codemirror_mode": {
    "name": "ipython",
    "version": 3
   },
   "file_extension": ".py",
   "mimetype": "text/x-python",
   "name": "python",
   "nbconvert_exporter": "python",
   "pygments_lexer": "ipython3",
   "version": "3.11.3"
  }
 },
 "nbformat": 4,
 "nbformat_minor": 2
}
